{
 "cells": [
  {
   "cell_type": "markdown",
   "id": "04b4333a-de2b-4cfb-80ee-6cd1f95c4ef3",
   "metadata": {
    "jp-MarkdownHeadingCollapsed": true
   },
   "source": [
    "### 1. Data preparation"
   ]
  },
  {
   "cell_type": "markdown",
   "id": "9661eb68-061f-414b-8b1d-007efd8bfdef",
   "metadata": {},
   "source": [
    "#### A. Libraries import"
   ]
  },
  {
   "cell_type": "code",
   "execution_count": 36,
   "id": "cd73ce09-580d-4b2a-a95b-f2a6061b1c35",
   "metadata": {},
   "outputs": [],
   "source": [
    "import pandas as pd\n",
    "import plotly.express as px"
   ]
  },
  {
   "cell_type": "markdown",
   "id": "855679b1-0f8d-4d60-a510-0fa64e7f4327",
   "metadata": {},
   "source": [
    "#### B. Data loading"
   ]
  },
  {
   "cell_type": "code",
   "execution_count": 37,
   "id": "93d56577-6081-4d26-bfdf-e7bbc2af26c2",
   "metadata": {},
   "outputs": [],
   "source": [
    "df = pd.read_csv('data/csv/fr.openfoodfacts.org.products.csv', sep='\\t', low_memory=False)"
   ]
  },
  {
   "cell_type": "markdown",
   "id": "f2aca810-48b3-4db6-bdcf-5e751cf9d532",
   "metadata": {
    "jp-MarkdownHeadingCollapsed": true
   },
   "source": [
    "#### C. Unification and aggregation"
   ]
  },
  {
   "cell_type": "markdown",
   "id": "8ac35849-878c-4951-83d7-47ef9cbcf8fd",
   "metadata": {},
   "source": [
    "#### D. Anonymization"
   ]
  },
  {
   "cell_type": "markdown",
   "id": "07e9ee6e-7b75-4e2b-855b-d4d2767d0c5b",
   "metadata": {},
   "source": [
    "## 2. Cleaning plan"
   ]
  },
  {
   "cell_type": "markdown",
   "id": "ad7faefd-be7c-484c-a849-c76bca0542b7",
   "metadata": {},
   "source": [
    "#### A. Select relevant variables"
   ]
  },
  {
   "cell_type": "code",
   "execution_count": 38,
   "id": "2f1873b0-e102-4a47-b4a2-d9d7bffb7373",
   "metadata": {},
   "outputs": [
    {
     "name": "stdout",
     "output_type": "stream",
     "text": [
      "(320772, 162)\n"
     ]
    },
    {
     "data": {
      "text/plain": [
       "['code',\n",
       " 'url',\n",
       " 'creator',\n",
       " 'created_t',\n",
       " 'created_datetime',\n",
       " 'last_modified_t',\n",
       " 'last_modified_datetime',\n",
       " 'product_name',\n",
       " 'generic_name',\n",
       " 'quantity',\n",
       " 'packaging',\n",
       " 'packaging_tags',\n",
       " 'brands',\n",
       " 'brands_tags',\n",
       " 'categories',\n",
       " 'categories_tags',\n",
       " 'categories_fr',\n",
       " 'origins',\n",
       " 'origins_tags',\n",
       " 'manufacturing_places',\n",
       " 'manufacturing_places_tags',\n",
       " 'labels',\n",
       " 'labels_tags',\n",
       " 'labels_fr',\n",
       " 'emb_codes',\n",
       " 'emb_codes_tags',\n",
       " 'first_packaging_code_geo',\n",
       " 'cities',\n",
       " 'cities_tags',\n",
       " 'purchase_places',\n",
       " 'stores',\n",
       " 'countries',\n",
       " 'countries_tags',\n",
       " 'countries_fr',\n",
       " 'ingredients_text',\n",
       " 'allergens',\n",
       " 'allergens_fr',\n",
       " 'traces',\n",
       " 'traces_tags',\n",
       " 'traces_fr',\n",
       " 'serving_size',\n",
       " 'no_nutriments',\n",
       " 'additives_n',\n",
       " 'additives',\n",
       " 'additives_tags',\n",
       " 'additives_fr',\n",
       " 'ingredients_from_palm_oil_n',\n",
       " 'ingredients_from_palm_oil',\n",
       " 'ingredients_from_palm_oil_tags',\n",
       " 'ingredients_that_may_be_from_palm_oil_n',\n",
       " 'ingredients_that_may_be_from_palm_oil',\n",
       " 'ingredients_that_may_be_from_palm_oil_tags',\n",
       " 'nutrition_grade_uk',\n",
       " 'nutrition_grade_fr',\n",
       " 'pnns_groups_1',\n",
       " 'pnns_groups_2',\n",
       " 'states',\n",
       " 'states_tags',\n",
       " 'states_fr',\n",
       " 'main_category',\n",
       " 'main_category_fr',\n",
       " 'image_url',\n",
       " 'image_small_url',\n",
       " 'energy_100g',\n",
       " 'energy-from-fat_100g',\n",
       " 'fat_100g',\n",
       " 'saturated-fat_100g',\n",
       " 'butyric-acid_100g',\n",
       " 'caproic-acid_100g',\n",
       " 'caprylic-acid_100g',\n",
       " 'capric-acid_100g',\n",
       " 'lauric-acid_100g',\n",
       " 'myristic-acid_100g',\n",
       " 'palmitic-acid_100g',\n",
       " 'stearic-acid_100g',\n",
       " 'arachidic-acid_100g',\n",
       " 'behenic-acid_100g',\n",
       " 'lignoceric-acid_100g',\n",
       " 'cerotic-acid_100g',\n",
       " 'montanic-acid_100g',\n",
       " 'melissic-acid_100g',\n",
       " 'monounsaturated-fat_100g',\n",
       " 'polyunsaturated-fat_100g',\n",
       " 'omega-3-fat_100g',\n",
       " 'alpha-linolenic-acid_100g',\n",
       " 'eicosapentaenoic-acid_100g',\n",
       " 'docosahexaenoic-acid_100g',\n",
       " 'omega-6-fat_100g',\n",
       " 'linoleic-acid_100g',\n",
       " 'arachidonic-acid_100g',\n",
       " 'gamma-linolenic-acid_100g',\n",
       " 'dihomo-gamma-linolenic-acid_100g',\n",
       " 'omega-9-fat_100g',\n",
       " 'oleic-acid_100g',\n",
       " 'elaidic-acid_100g',\n",
       " 'gondoic-acid_100g',\n",
       " 'mead-acid_100g',\n",
       " 'erucic-acid_100g',\n",
       " 'nervonic-acid_100g',\n",
       " 'trans-fat_100g',\n",
       " 'cholesterol_100g',\n",
       " 'carbohydrates_100g',\n",
       " 'sugars_100g',\n",
       " 'sucrose_100g',\n",
       " 'glucose_100g',\n",
       " 'fructose_100g',\n",
       " 'lactose_100g',\n",
       " 'maltose_100g',\n",
       " 'maltodextrins_100g',\n",
       " 'starch_100g',\n",
       " 'polyols_100g',\n",
       " 'fiber_100g',\n",
       " 'proteins_100g',\n",
       " 'casein_100g',\n",
       " 'serum-proteins_100g',\n",
       " 'nucleotides_100g',\n",
       " 'salt_100g',\n",
       " 'sodium_100g',\n",
       " 'alcohol_100g',\n",
       " 'vitamin-a_100g',\n",
       " 'beta-carotene_100g',\n",
       " 'vitamin-d_100g',\n",
       " 'vitamin-e_100g',\n",
       " 'vitamin-k_100g',\n",
       " 'vitamin-c_100g',\n",
       " 'vitamin-b1_100g',\n",
       " 'vitamin-b2_100g',\n",
       " 'vitamin-pp_100g',\n",
       " 'vitamin-b6_100g',\n",
       " 'vitamin-b9_100g',\n",
       " 'folates_100g',\n",
       " 'vitamin-b12_100g',\n",
       " 'biotin_100g',\n",
       " 'pantothenic-acid_100g',\n",
       " 'silica_100g',\n",
       " 'bicarbonate_100g',\n",
       " 'potassium_100g',\n",
       " 'chloride_100g',\n",
       " 'calcium_100g',\n",
       " 'phosphorus_100g',\n",
       " 'iron_100g',\n",
       " 'magnesium_100g',\n",
       " 'zinc_100g',\n",
       " 'copper_100g',\n",
       " 'manganese_100g',\n",
       " 'fluoride_100g',\n",
       " 'selenium_100g',\n",
       " 'chromium_100g',\n",
       " 'molybdenum_100g',\n",
       " 'iodine_100g',\n",
       " 'caffeine_100g',\n",
       " 'taurine_100g',\n",
       " 'ph_100g',\n",
       " 'fruits-vegetables-nuts_100g',\n",
       " 'collagen-meat-protein-ratio_100g',\n",
       " 'cocoa_100g',\n",
       " 'chlorophyl_100g',\n",
       " 'carbon-footprint_100g',\n",
       " 'nutrition-score-fr_100g',\n",
       " 'nutrition-score-uk_100g',\n",
       " 'glycemic-index_100g',\n",
       " 'water-hardness_100g']"
      ]
     },
     "execution_count": 38,
     "metadata": {},
     "output_type": "execute_result"
    }
   ],
   "source": [
    "print(df.shape)\n",
    "list(df.columns)"
   ]
  },
  {
   "cell_type": "code",
   "execution_count": 39,
   "id": "b3d551b4-58cf-48e4-a585-1d2d565d6c8a",
   "metadata": {},
   "outputs": [],
   "source": [
    "missing_values = df.isnull().sum().sort_values(ascending=False)\n",
    "missing_values_pct = missing_values / 320772 * 100\n",
    "variables_80pct_null = (80 > missing_values_pct)"
   ]
  },
  {
   "cell_type": "code",
   "execution_count": 40,
   "id": "eece06ef-2203-49f0-b9dd-92c508f74a33",
   "metadata": {
    "scrolled": true
   },
   "outputs": [
    {
     "data": {
      "text/plain": [
       "['code',\n",
       " 'url',\n",
       " 'creator',\n",
       " 'created_t',\n",
       " 'created_datetime',\n",
       " 'last_modified_t',\n",
       " 'last_modified_datetime',\n",
       " 'product_name',\n",
       " 'quantity',\n",
       " 'packaging',\n",
       " 'packaging_tags',\n",
       " 'brands',\n",
       " 'brands_tags',\n",
       " 'categories',\n",
       " 'categories_tags',\n",
       " 'categories_fr',\n",
       " 'countries',\n",
       " 'countries_tags',\n",
       " 'countries_fr',\n",
       " 'ingredients_text',\n",
       " 'serving_size',\n",
       " 'additives_n',\n",
       " 'additives',\n",
       " 'additives_tags',\n",
       " 'additives_fr',\n",
       " 'ingredients_from_palm_oil_n',\n",
       " 'ingredients_that_may_be_from_palm_oil_n',\n",
       " 'nutrition_grade_fr',\n",
       " 'pnns_groups_1',\n",
       " 'pnns_groups_2',\n",
       " 'states',\n",
       " 'states_tags',\n",
       " 'states_fr',\n",
       " 'main_category',\n",
       " 'main_category_fr',\n",
       " 'image_url',\n",
       " 'image_small_url',\n",
       " 'energy_100g',\n",
       " 'fat_100g',\n",
       " 'saturated-fat_100g',\n",
       " 'trans-fat_100g',\n",
       " 'cholesterol_100g',\n",
       " 'carbohydrates_100g',\n",
       " 'sugars_100g',\n",
       " 'fiber_100g',\n",
       " 'proteins_100g',\n",
       " 'salt_100g',\n",
       " 'sodium_100g',\n",
       " 'vitamin-a_100g',\n",
       " 'vitamin-c_100g',\n",
       " 'calcium_100g',\n",
       " 'iron_100g',\n",
       " 'nutrition-score-fr_100g',\n",
       " 'nutrition-score-uk_100g']"
      ]
     },
     "execution_count": 40,
     "metadata": {},
     "output_type": "execute_result"
    }
   ],
   "source": [
    "df = df.loc[:, variables_80pct_null]\n",
    "list(df.columns)"
   ]
  },
  {
   "cell_type": "code",
   "execution_count": 41,
   "id": "621a8935-f1f3-4df5-96b7-2f9a880376c9",
   "metadata": {},
   "outputs": [],
   "source": [
    "columns_to_drop = ['code',\n",
    "                   'url',\n",
    "                   'creator',\n",
    "                   'created_t',\n",
    "                   'created_datetime',\n",
    "                   'last_modified_t',\n",
    "                   'last_modified_datetime',\n",
    "                   'image_url',\n",
    "                   'image_small_url',\n",
    "                   'tags'\n",
    "                  ]\n",
    "\n",
    "regex = '|'.join(columns_to_drop)\n",
    "df_to_drop = df.filter(regex=regex, axis=1)\n",
    "df = df.drop(df_to_drop.columns, axis=1)                         "
   ]
  },
  {
   "cell_type": "code",
   "execution_count": 42,
   "id": "1eec8fc5-1c78-4106-96b9-886aef45f1dd",
   "metadata": {
    "scrolled": true
   },
   "outputs": [
    {
     "data": {
      "text/plain": [
       "(320772, 39)"
      ]
     },
     "execution_count": 42,
     "metadata": {},
     "output_type": "execute_result"
    }
   ],
   "source": [
    "df.shape"
   ]
  },
  {
   "cell_type": "code",
   "execution_count": 43,
   "id": "2e1d4a01-c645-42e6-b334-e0aed5f01a49",
   "metadata": {},
   "outputs": [
    {
     "data": {
      "text/plain": [
       "product_name                                object\n",
       "quantity                                    object\n",
       "packaging                                   object\n",
       "brands                                      object\n",
       "categories                                  object\n",
       "categories_fr                               object\n",
       "countries                                   object\n",
       "countries_fr                                object\n",
       "ingredients_text                            object\n",
       "serving_size                                object\n",
       "additives_n                                float64\n",
       "additives                                   object\n",
       "additives_fr                                object\n",
       "ingredients_from_palm_oil_n                float64\n",
       "ingredients_that_may_be_from_palm_oil_n    float64\n",
       "nutrition_grade_fr                          object\n",
       "pnns_groups_1                               object\n",
       "pnns_groups_2                               object\n",
       "states                                      object\n",
       "states_fr                                   object\n",
       "main_category                               object\n",
       "main_category_fr                            object\n",
       "energy_100g                                float64\n",
       "fat_100g                                   float64\n",
       "saturated-fat_100g                         float64\n",
       "trans-fat_100g                             float64\n",
       "cholesterol_100g                           float64\n",
       "carbohydrates_100g                         float64\n",
       "sugars_100g                                float64\n",
       "fiber_100g                                 float64\n",
       "proteins_100g                              float64\n",
       "salt_100g                                  float64\n",
       "sodium_100g                                float64\n",
       "vitamin-a_100g                             float64\n",
       "vitamin-c_100g                             float64\n",
       "calcium_100g                               float64\n",
       "iron_100g                                  float64\n",
       "nutrition-score-fr_100g                    float64\n",
       "nutrition-score-uk_100g                    float64\n",
       "dtype: object"
      ]
     },
     "execution_count": 43,
     "metadata": {},
     "output_type": "execute_result"
    }
   ],
   "source": [
    "df.dtypes"
   ]
  },
  {
   "cell_type": "code",
   "execution_count": 66,
   "id": "f86a1297-a3d0-4d7d-82be-a73573ce4aa7",
   "metadata": {
    "scrolled": true
   },
   "outputs": [
    {
     "data": {
      "application/vnd.plotly.v1+json": {
       "config": {
        "plotlyServerURL": "https://plot.ly"
       },
       "data": [
        {
         "coloraxis": "coloraxis",
         "hovertemplate": "x: %{x}<br>y: %{y}<br>color: %{z}<extra></extra>",
         "name": "0",
         "type": "heatmap",
         "x": [
          "energy_100g",
          "fat_100g",
          "saturated-fat_100g",
          "trans-fat_100g",
          "cholesterol_100g",
          "carbohydrates_100g",
          "sugars_100g",
          "fiber_100g",
          "proteins_100g",
          "salt_100g",
          "sodium_100g",
          "vitamin-a_100g",
          "vitamin-c_100g",
          "calcium_100g",
          "iron_100g",
          "nutrition-score-fr_100g",
          "nutrition-score-uk_100g"
         ],
         "xaxis": "x",
         "y": [
          "energy_100g",
          "fat_100g",
          "saturated-fat_100g",
          "trans-fat_100g",
          "cholesterol_100g",
          "carbohydrates_100g",
          "sugars_100g",
          "fiber_100g",
          "proteins_100g",
          "salt_100g",
          "sodium_100g",
          "vitamin-a_100g",
          "vitamin-c_100g",
          "calcium_100g",
          "iron_100g",
          "nutrition-score-fr_100g",
          "nutrition-score-uk_100g"
         ],
         "yaxis": "y",
         "z": [
          [
           1,
           0.0944056434962674,
           0.07374794495494615,
           0.02161834367604083,
           0.005168004252897594,
           0.06108841304895129,
           0.056877144753540845,
           0.07745826766820836,
           0.04482542263247438,
           -0.0005794616626366506,
           -0.000579678177309438,
           0.0005525909470351873,
           -0.004290298291431168,
           0.007234811084420141,
           0.003874332499533461,
           0.06776502063641807,
           0.07029009915905975
          ],
          [
           0.0944056434962674,
           1,
           0.6890511019773606,
           0.024889903430062386,
           0.021901740371348153,
           -0.08780176636852598,
           -0.04738284124590789,
           0.13631314420683086,
           0.229888855811973,
           -0.004341102572107487,
           -0.004342455906809418,
           0.0022380829313394025,
           -0.009281162080332294,
           0.009835751478399025,
           -0.002610137434533744,
           0.5677268366255596,
           0.5918110241926873
          ],
          [
           0.07374794495494615,
           0.6890511019773606,
           1,
           0.013187067945468756,
           0.04400839441351984,
           -0.05109913404776511,
           0.15657737722072426,
           0.15464423142385264,
           0.16644880297523704,
           -0.00220624597286361,
           -0.0022073273007140815,
           0.0059106319264608555,
           -0.009718439613191627,
           0.020671009305405975,
           -0.003902173202611039,
           0.6242223972247074,
           0.6408108868754868
          ],
          [
           0.02161834367604083,
           0.024889903430062386,
           0.013187067945468756,
           1,
           -0.0004626918943967348,
           0.006583838106259534,
           0.0036243913530791282,
           -0.0008532765310590026,
           -0.010085439760927396,
           -0.00014455155952262239,
           -0.00014455089848136167,
           -0.0019596335104083134,
           -0.0016975205465821726,
           -0.0007423879646070007,
           0.002611546996196664,
           0.02210097447404471,
           0.022186910418490982
          ],
          [
           0.005168004252897594,
           0.021901740371348153,
           0.04400839441351984,
           -0.0004626918943967348,
           1,
           -0.03644391057207223,
           -0.01665697835042872,
           -0.02385798935030226,
           0.04734386712917178,
           0.11265249449488501,
           0.11265247720240248,
           0.0035105501341202742,
           -0.0007270552324543619,
           0.004672787419150131,
           -0.0001461061684989218,
           0.030883862449858426,
           0.03090345618693808
          ],
          [
           0.06108841304895129,
           -0.08780176636852598,
           -0.05109913404776511,
           0.006583838106259534,
           -0.03644391057207223,
           1,
           0.6608253517262859,
           0.2811235830634358,
           -0.08777653304271998,
           -0.0009926835790156025,
           -0.000994637174067432,
           -0.003953360677700745,
           0.003814991730231251,
           -0.010289666414164872,
           0.008855717094070795,
           0.26353906133439947,
           0.2628344725581651
          ],
          [
           0.056877144753540845,
           -0.04738284124590789,
           0.15657737722072426,
           0.0036243913530791282,
           -0.01665697835042872,
           0.6608253517262859,
           1,
           0.34459628739730935,
           -0.21076600444307209,
           0.00044109547161671337,
           0.0004401185549558116,
           -0.014406824448108747,
           0.0026694112131842936,
           -0.0042829580020747335,
           0.007795325179764175,
           0.44153712738048423,
           0.4317081706290227
          ],
          [
           0.07745826766820836,
           0.13631314420683086,
           0.15464423142385264,
           -0.0008532765310590026,
           -0.02385798935030226,
           0.2811235830634358,
           0.34459628739730935,
           1,
           0.19225902819372861,
           -6.597678394665833e-05,
           -6.84388243965729e-05,
           0.056382797574801094,
           0.008326030497612347,
           0.001166661594890814,
           0.011038649999093826,
           -0.04698863843024976,
           -0.045250145984237544
          ],
          [
           0.04482542263247438,
           0.229888855811973,
           0.16644880297523704,
           -0.010085439760927396,
           0.04734386712917178,
           -0.08777653304271998,
           -0.21076600444307209,
           0.19225902819372861,
           1,
           -0.0023057046831720706,
           -0.0023066399027746446,
           0.004302833668230512,
           -0.006976191226244681,
           0.04241988704790782,
           0.004022834857532494,
           0.10841399825791712,
           0.1312454790610799
          ],
          [
           -0.0005794616626366506,
           -0.004341102572107487,
           -0.00220624597286361,
           -0.00014455155952262239,
           0.11265249449488501,
           -0.0009926835790156025,
           0.00044109547161671337,
           -6.597678394665833e-05,
           -0.0023057046831720706,
           1,
           0.9999999999452343,
           0.000473579746125237,
           0.0029358251602975513,
           0.0013680970112180603,
           0.0012881541621240493,
           0.007295212889761761,
           0.007388072670444775
          ],
          [
           -0.000579678177309438,
           -0.004342455906809418,
           -0.0022073273007140815,
           -0.00014455089848136167,
           0.11265247720240248,
           -0.000994637174067432,
           0.0004401185549558116,
           -6.84388243965729e-05,
           -0.0023066399027746446,
           0.9999999999452343,
           1,
           0.00047390415163654434,
           0.002935814297401924,
           0.001368088410258093,
           0.0012881229908613906,
           0.007295210977534888,
           0.007388070929788885
          ],
          [
           0.0005525909470351873,
           0.0022380829313394025,
           0.0059106319264608555,
           -0.0019596335104083134,
           0.0035105501341202742,
           -0.003953360677700745,
           -0.014406824448108747,
           0.056382797574801094,
           0.004302833668230512,
           0.000473579746125237,
           0.00047390415163654434,
           1,
           0.0035041452457267937,
           0.08612355222905822,
           0.0036760336855944935,
           -0.006444815737018508,
           -0.00467251916542382
          ],
          [
           -0.004290298291431168,
           -0.009281162080332294,
           -0.009718439613191627,
           -0.0016975205465821726,
           -0.0007270552324543619,
           0.003814991730231251,
           0.0026694112131842936,
           0.008326030497612347,
           -0.006976191226244681,
           0.0029358251602975513,
           0.002935814297401924,
           0.0035041452457267937,
           1,
           0.012216540679947954,
           0.08368485814333447,
           -0.010115041700992186,
           -0.01027249897971088
          ],
          [
           0.007234811084420141,
           0.009835751478399025,
           0.020671009305405975,
           -0.0007423879646070007,
           0.004672787419150131,
           -0.010289666414164872,
           -0.0042829580020747335,
           0.001166661594890814,
           0.04241988704790782,
           0.0013680970112180603,
           0.001368088410258093,
           0.08612355222905822,
           0.012216540679947954,
           1,
           0.0814685360240773,
           0.01733225238090628,
           0.017324807645524864
          ],
          [
           0.003874332499533461,
           -0.002610137434533744,
           -0.003902173202611039,
           0.002611546996196664,
           -0.0001461061684989218,
           0.008855717094070795,
           0.007795325179764175,
           0.011038649999093826,
           0.004022834857532494,
           0.0012881541621240493,
           0.0012881229908613906,
           0.0036760336855944935,
           0.08368485814333447,
           0.0814685360240773,
           1,
           -0.0013643808282725023,
           -0.001360458481534391
          ],
          [
           0.06776502063641807,
           0.5677268366255596,
           0.6242223972247074,
           0.02210097447404471,
           0.030883862449858426,
           0.26353906133439947,
           0.44153712738048423,
           -0.04698863843024976,
           0.10841399825791712,
           0.007295212889761761,
           0.007295210977534888,
           -0.006444815737018508,
           -0.010115041700992186,
           0.01733225238090628,
           -0.0013643808282725023,
           1,
           0.9862203956462817
          ],
          [
           0.07029009915905975,
           0.5918110241926873,
           0.6408108868754868,
           0.022186910418490982,
           0.03090345618693808,
           0.2628344725581651,
           0.4317081706290227,
           -0.045250145984237544,
           0.1312454790610799,
           0.007388072670444775,
           0.007388070929788885,
           -0.00467251916542382,
           -0.01027249897971088,
           0.017324807645524864,
           -0.001360458481534391,
           0.9862203956462817,
           1
          ]
         ]
        }
       ],
       "layout": {
        "autosize": true,
        "coloraxis": {
         "colorscale": [
          [
           0,
           "#0d0887"
          ],
          [
           0.1111111111111111,
           "#46039f"
          ],
          [
           0.2222222222222222,
           "#7201a8"
          ],
          [
           0.3333333333333333,
           "#9c179e"
          ],
          [
           0.4444444444444444,
           "#bd3786"
          ],
          [
           0.5555555555555556,
           "#d8576b"
          ],
          [
           0.6666666666666666,
           "#ed7953"
          ],
          [
           0.7777777777777778,
           "#fb9f3a"
          ],
          [
           0.8888888888888888,
           "#fdca26"
          ],
          [
           1,
           "#f0f921"
          ]
         ]
        },
        "margin": {
         "t": 60
        },
        "template": {
         "data": {
          "bar": [
           {
            "error_x": {
             "color": "#2a3f5f"
            },
            "error_y": {
             "color": "#2a3f5f"
            },
            "marker": {
             "line": {
              "color": "#E5ECF6",
              "width": 0.5
             },
             "pattern": {
              "fillmode": "overlay",
              "size": 10,
              "solidity": 0.2
             }
            },
            "type": "bar"
           }
          ],
          "barpolar": [
           {
            "marker": {
             "line": {
              "color": "#E5ECF6",
              "width": 0.5
             },
             "pattern": {
              "fillmode": "overlay",
              "size": 10,
              "solidity": 0.2
             }
            },
            "type": "barpolar"
           }
          ],
          "carpet": [
           {
            "aaxis": {
             "endlinecolor": "#2a3f5f",
             "gridcolor": "white",
             "linecolor": "white",
             "minorgridcolor": "white",
             "startlinecolor": "#2a3f5f"
            },
            "baxis": {
             "endlinecolor": "#2a3f5f",
             "gridcolor": "white",
             "linecolor": "white",
             "minorgridcolor": "white",
             "startlinecolor": "#2a3f5f"
            },
            "type": "carpet"
           }
          ],
          "choropleth": [
           {
            "colorbar": {
             "outlinewidth": 0,
             "ticks": ""
            },
            "type": "choropleth"
           }
          ],
          "contour": [
           {
            "colorbar": {
             "outlinewidth": 0,
             "ticks": ""
            },
            "colorscale": [
             [
              0,
              "#0d0887"
             ],
             [
              0.1111111111111111,
              "#46039f"
             ],
             [
              0.2222222222222222,
              "#7201a8"
             ],
             [
              0.3333333333333333,
              "#9c179e"
             ],
             [
              0.4444444444444444,
              "#bd3786"
             ],
             [
              0.5555555555555556,
              "#d8576b"
             ],
             [
              0.6666666666666666,
              "#ed7953"
             ],
             [
              0.7777777777777778,
              "#fb9f3a"
             ],
             [
              0.8888888888888888,
              "#fdca26"
             ],
             [
              1,
              "#f0f921"
             ]
            ],
            "type": "contour"
           }
          ],
          "contourcarpet": [
           {
            "colorbar": {
             "outlinewidth": 0,
             "ticks": ""
            },
            "type": "contourcarpet"
           }
          ],
          "heatmap": [
           {
            "colorbar": {
             "outlinewidth": 0,
             "ticks": ""
            },
            "colorscale": [
             [
              0,
              "#0d0887"
             ],
             [
              0.1111111111111111,
              "#46039f"
             ],
             [
              0.2222222222222222,
              "#7201a8"
             ],
             [
              0.3333333333333333,
              "#9c179e"
             ],
             [
              0.4444444444444444,
              "#bd3786"
             ],
             [
              0.5555555555555556,
              "#d8576b"
             ],
             [
              0.6666666666666666,
              "#ed7953"
             ],
             [
              0.7777777777777778,
              "#fb9f3a"
             ],
             [
              0.8888888888888888,
              "#fdca26"
             ],
             [
              1,
              "#f0f921"
             ]
            ],
            "type": "heatmap"
           }
          ],
          "heatmapgl": [
           {
            "colorbar": {
             "outlinewidth": 0,
             "ticks": ""
            },
            "colorscale": [
             [
              0,
              "#0d0887"
             ],
             [
              0.1111111111111111,
              "#46039f"
             ],
             [
              0.2222222222222222,
              "#7201a8"
             ],
             [
              0.3333333333333333,
              "#9c179e"
             ],
             [
              0.4444444444444444,
              "#bd3786"
             ],
             [
              0.5555555555555556,
              "#d8576b"
             ],
             [
              0.6666666666666666,
              "#ed7953"
             ],
             [
              0.7777777777777778,
              "#fb9f3a"
             ],
             [
              0.8888888888888888,
              "#fdca26"
             ],
             [
              1,
              "#f0f921"
             ]
            ],
            "type": "heatmapgl"
           }
          ],
          "histogram": [
           {
            "marker": {
             "pattern": {
              "fillmode": "overlay",
              "size": 10,
              "solidity": 0.2
             }
            },
            "type": "histogram"
           }
          ],
          "histogram2d": [
           {
            "colorbar": {
             "outlinewidth": 0,
             "ticks": ""
            },
            "colorscale": [
             [
              0,
              "#0d0887"
             ],
             [
              0.1111111111111111,
              "#46039f"
             ],
             [
              0.2222222222222222,
              "#7201a8"
             ],
             [
              0.3333333333333333,
              "#9c179e"
             ],
             [
              0.4444444444444444,
              "#bd3786"
             ],
             [
              0.5555555555555556,
              "#d8576b"
             ],
             [
              0.6666666666666666,
              "#ed7953"
             ],
             [
              0.7777777777777778,
              "#fb9f3a"
             ],
             [
              0.8888888888888888,
              "#fdca26"
             ],
             [
              1,
              "#f0f921"
             ]
            ],
            "type": "histogram2d"
           }
          ],
          "histogram2dcontour": [
           {
            "colorbar": {
             "outlinewidth": 0,
             "ticks": ""
            },
            "colorscale": [
             [
              0,
              "#0d0887"
             ],
             [
              0.1111111111111111,
              "#46039f"
             ],
             [
              0.2222222222222222,
              "#7201a8"
             ],
             [
              0.3333333333333333,
              "#9c179e"
             ],
             [
              0.4444444444444444,
              "#bd3786"
             ],
             [
              0.5555555555555556,
              "#d8576b"
             ],
             [
              0.6666666666666666,
              "#ed7953"
             ],
             [
              0.7777777777777778,
              "#fb9f3a"
             ],
             [
              0.8888888888888888,
              "#fdca26"
             ],
             [
              1,
              "#f0f921"
             ]
            ],
            "type": "histogram2dcontour"
           }
          ],
          "mesh3d": [
           {
            "colorbar": {
             "outlinewidth": 0,
             "ticks": ""
            },
            "type": "mesh3d"
           }
          ],
          "parcoords": [
           {
            "line": {
             "colorbar": {
              "outlinewidth": 0,
              "ticks": ""
             }
            },
            "type": "parcoords"
           }
          ],
          "pie": [
           {
            "automargin": true,
            "type": "pie"
           }
          ],
          "scatter": [
           {
            "fillpattern": {
             "fillmode": "overlay",
             "size": 10,
             "solidity": 0.2
            },
            "type": "scatter"
           }
          ],
          "scatter3d": [
           {
            "line": {
             "colorbar": {
              "outlinewidth": 0,
              "ticks": ""
             }
            },
            "marker": {
             "colorbar": {
              "outlinewidth": 0,
              "ticks": ""
             }
            },
            "type": "scatter3d"
           }
          ],
          "scattercarpet": [
           {
            "marker": {
             "colorbar": {
              "outlinewidth": 0,
              "ticks": ""
             }
            },
            "type": "scattercarpet"
           }
          ],
          "scattergeo": [
           {
            "marker": {
             "colorbar": {
              "outlinewidth": 0,
              "ticks": ""
             }
            },
            "type": "scattergeo"
           }
          ],
          "scattergl": [
           {
            "marker": {
             "colorbar": {
              "outlinewidth": 0,
              "ticks": ""
             }
            },
            "type": "scattergl"
           }
          ],
          "scattermapbox": [
           {
            "marker": {
             "colorbar": {
              "outlinewidth": 0,
              "ticks": ""
             }
            },
            "type": "scattermapbox"
           }
          ],
          "scatterpolar": [
           {
            "marker": {
             "colorbar": {
              "outlinewidth": 0,
              "ticks": ""
             }
            },
            "type": "scatterpolar"
           }
          ],
          "scatterpolargl": [
           {
            "marker": {
             "colorbar": {
              "outlinewidth": 0,
              "ticks": ""
             }
            },
            "type": "scatterpolargl"
           }
          ],
          "scatterternary": [
           {
            "marker": {
             "colorbar": {
              "outlinewidth": 0,
              "ticks": ""
             }
            },
            "type": "scatterternary"
           }
          ],
          "surface": [
           {
            "colorbar": {
             "outlinewidth": 0,
             "ticks": ""
            },
            "colorscale": [
             [
              0,
              "#0d0887"
             ],
             [
              0.1111111111111111,
              "#46039f"
             ],
             [
              0.2222222222222222,
              "#7201a8"
             ],
             [
              0.3333333333333333,
              "#9c179e"
             ],
             [
              0.4444444444444444,
              "#bd3786"
             ],
             [
              0.5555555555555556,
              "#d8576b"
             ],
             [
              0.6666666666666666,
              "#ed7953"
             ],
             [
              0.7777777777777778,
              "#fb9f3a"
             ],
             [
              0.8888888888888888,
              "#fdca26"
             ],
             [
              1,
              "#f0f921"
             ]
            ],
            "type": "surface"
           }
          ],
          "table": [
           {
            "cells": {
             "fill": {
              "color": "#EBF0F8"
             },
             "line": {
              "color": "white"
             }
            },
            "header": {
             "fill": {
              "color": "#C8D4E3"
             },
             "line": {
              "color": "white"
             }
            },
            "type": "table"
           }
          ]
         },
         "layout": {
          "annotationdefaults": {
           "arrowcolor": "#2a3f5f",
           "arrowhead": 0,
           "arrowwidth": 1
          },
          "autotypenumbers": "strict",
          "coloraxis": {
           "colorbar": {
            "outlinewidth": 0,
            "ticks": ""
           }
          },
          "colorscale": {
           "diverging": [
            [
             0,
             "#8e0152"
            ],
            [
             0.1,
             "#c51b7d"
            ],
            [
             0.2,
             "#de77ae"
            ],
            [
             0.3,
             "#f1b6da"
            ],
            [
             0.4,
             "#fde0ef"
            ],
            [
             0.5,
             "#f7f7f7"
            ],
            [
             0.6,
             "#e6f5d0"
            ],
            [
             0.7,
             "#b8e186"
            ],
            [
             0.8,
             "#7fbc41"
            ],
            [
             0.9,
             "#4d9221"
            ],
            [
             1,
             "#276419"
            ]
           ],
           "sequential": [
            [
             0,
             "#0d0887"
            ],
            [
             0.1111111111111111,
             "#46039f"
            ],
            [
             0.2222222222222222,
             "#7201a8"
            ],
            [
             0.3333333333333333,
             "#9c179e"
            ],
            [
             0.4444444444444444,
             "#bd3786"
            ],
            [
             0.5555555555555556,
             "#d8576b"
            ],
            [
             0.6666666666666666,
             "#ed7953"
            ],
            [
             0.7777777777777778,
             "#fb9f3a"
            ],
            [
             0.8888888888888888,
             "#fdca26"
            ],
            [
             1,
             "#f0f921"
            ]
           ],
           "sequentialminus": [
            [
             0,
             "#0d0887"
            ],
            [
             0.1111111111111111,
             "#46039f"
            ],
            [
             0.2222222222222222,
             "#7201a8"
            ],
            [
             0.3333333333333333,
             "#9c179e"
            ],
            [
             0.4444444444444444,
             "#bd3786"
            ],
            [
             0.5555555555555556,
             "#d8576b"
            ],
            [
             0.6666666666666666,
             "#ed7953"
            ],
            [
             0.7777777777777778,
             "#fb9f3a"
            ],
            [
             0.8888888888888888,
             "#fdca26"
            ],
            [
             1,
             "#f0f921"
            ]
           ]
          },
          "colorway": [
           "#636efa",
           "#EF553B",
           "#00cc96",
           "#ab63fa",
           "#FFA15A",
           "#19d3f3",
           "#FF6692",
           "#B6E880",
           "#FF97FF",
           "#FECB52"
          ],
          "font": {
           "color": "#2a3f5f"
          },
          "geo": {
           "bgcolor": "white",
           "lakecolor": "white",
           "landcolor": "#E5ECF6",
           "showlakes": true,
           "showland": true,
           "subunitcolor": "white"
          },
          "hoverlabel": {
           "align": "left"
          },
          "hovermode": "closest",
          "mapbox": {
           "style": "light"
          },
          "paper_bgcolor": "white",
          "plot_bgcolor": "#E5ECF6",
          "polar": {
           "angularaxis": {
            "gridcolor": "white",
            "linecolor": "white",
            "ticks": ""
           },
           "bgcolor": "#E5ECF6",
           "radialaxis": {
            "gridcolor": "white",
            "linecolor": "white",
            "ticks": ""
           }
          },
          "scene": {
           "xaxis": {
            "backgroundcolor": "#E5ECF6",
            "gridcolor": "white",
            "gridwidth": 2,
            "linecolor": "white",
            "showbackground": true,
            "ticks": "",
            "zerolinecolor": "white"
           },
           "yaxis": {
            "backgroundcolor": "#E5ECF6",
            "gridcolor": "white",
            "gridwidth": 2,
            "linecolor": "white",
            "showbackground": true,
            "ticks": "",
            "zerolinecolor": "white"
           },
           "zaxis": {
            "backgroundcolor": "#E5ECF6",
            "gridcolor": "white",
            "gridwidth": 2,
            "linecolor": "white",
            "showbackground": true,
            "ticks": "",
            "zerolinecolor": "white"
           }
          },
          "shapedefaults": {
           "line": {
            "color": "#2a3f5f"
           }
          },
          "ternary": {
           "aaxis": {
            "gridcolor": "white",
            "linecolor": "white",
            "ticks": ""
           },
           "baxis": {
            "gridcolor": "white",
            "linecolor": "white",
            "ticks": ""
           },
           "bgcolor": "#E5ECF6",
           "caxis": {
            "gridcolor": "white",
            "linecolor": "white",
            "ticks": ""
           }
          },
          "title": {
           "x": 0.05
          },
          "xaxis": {
           "automargin": true,
           "gridcolor": "white",
           "linecolor": "white",
           "ticks": "",
           "title": {
            "standoff": 15
           },
           "zerolinecolor": "white",
           "zerolinewidth": 2
          },
          "yaxis": {
           "automargin": true,
           "gridcolor": "white",
           "linecolor": "white",
           "ticks": "",
           "title": {
            "standoff": 15
           },
           "zerolinecolor": "white",
           "zerolinewidth": 2
          }
         }
        },
        "xaxis": {
         "anchor": "y",
         "autorange": true,
         "constrain": "domain",
         "domain": [
          0.4285714285714286,
          0.5714285714285714
         ],
         "range": [
          -0.5,
          16.5
         ],
         "scaleanchor": "y",
         "type": "category"
        },
        "yaxis": {
         "anchor": "x",
         "autorange": true,
         "constrain": "domain",
         "domain": [
          0,
          1
         ],
         "range": [
          16.5,
          -0.5
         ],
         "type": "category"
        }
       }
      },
      "image/png": "[encoded data removed]",
      "text/html": [
       "<div>                            <div id=\"42be5c75-771f-4b05-827e-0d6022f1f689\" class=\"plotly-graph-div\" style=\"height:525px; width:100%;\"></div>            <script type=\"text/javascript\">                require([\"plotly\"], function(Plotly) {                    window.PLOTLYENV=window.PLOTLYENV || {};                                    if (document.getElementById(\"42be5c75-771f-4b05-827e-0d6022f1f689\")) {                    Plotly.newPlot(                        \"42be5c75-771f-4b05-827e-0d6022f1f689\",                        [{\"coloraxis\":\"coloraxis\",\"name\":\"0\",\"x\":[\"energy_100g\",\"fat_100g\",\"saturated-fat_100g\",\"trans-fat_100g\",\"cholesterol_100g\",\"carbohydrates_100g\",\"sugars_100g\",\"fiber_100g\",\"proteins_100g\",\"salt_100g\",\"sodium_100g\",\"vitamin-a_100g\",\"vitamin-c_100g\",\"calcium_100g\",\"iron_100g\",\"nutrition-score-fr_100g\",\"nutrition-score-uk_100g\"],\"y\":[\"energy_100g\",\"fat_100g\",\"saturated-fat_100g\",\"trans-fat_100g\",\"cholesterol_100g\",\"carbohydrates_100g\",\"sugars_100g\",\"fiber_100g\",\"proteins_100g\",\"salt_100g\",\"sodium_100g\",\"vitamin-a_100g\",\"vitamin-c_100g\",\"calcium_100g\",\"iron_100g\",\"nutrition-score-fr_100g\",\"nutrition-score-uk_100g\"],\"z\":[[1.0,0.0944056434962674,0.07374794495494615,0.02161834367604083,0.005168004252897594,0.06108841304895129,0.056877144753540845,0.07745826766820836,0.04482542263247438,-0.0005794616626366506,-0.000579678177309438,0.0005525909470351873,-0.004290298291431168,0.007234811084420141,0.003874332499533461,0.06776502063641807,0.07029009915905975],[0.0944056434962674,1.0,0.6890511019773606,0.024889903430062386,0.021901740371348153,-0.08780176636852598,-0.04738284124590789,0.13631314420683086,0.229888855811973,-0.004341102572107487,-0.004342455906809418,0.0022380829313394025,-0.009281162080332294,0.009835751478399025,-0.002610137434533744,0.5677268366255596,0.5918110241926873],[0.07374794495494615,0.6890511019773606,1.0,0.013187067945468756,0.04400839441351984,-0.05109913404776511,0.15657737722072426,0.15464423142385264,0.16644880297523704,-0.00220624597286361,-0.0022073273007140815,0.0059106319264608555,-0.009718439613191627,0.020671009305405975,-0.003902173202611039,0.6242223972247074,0.6408108868754868],[0.02161834367604083,0.024889903430062386,0.013187067945468756,1.0,-0.0004626918943967348,0.006583838106259534,0.0036243913530791282,-0.0008532765310590026,-0.010085439760927396,-0.00014455155952262239,-0.00014455089848136167,-0.0019596335104083134,-0.0016975205465821726,-0.0007423879646070007,0.002611546996196664,0.02210097447404471,0.022186910418490982],[0.005168004252897594,0.021901740371348153,0.04400839441351984,-0.0004626918943967348,1.0,-0.03644391057207223,-0.01665697835042872,-0.02385798935030226,0.04734386712917178,0.11265249449488501,0.11265247720240248,0.0035105501341202742,-0.0007270552324543619,0.004672787419150131,-0.0001461061684989218,0.030883862449858426,0.03090345618693808],[0.06108841304895129,-0.08780176636852598,-0.05109913404776511,0.006583838106259534,-0.03644391057207223,1.0,0.6608253517262859,0.2811235830634358,-0.08777653304271998,-0.0009926835790156025,-0.000994637174067432,-0.003953360677700745,0.003814991730231251,-0.010289666414164872,0.008855717094070795,0.26353906133439947,0.2628344725581651],[0.056877144753540845,-0.04738284124590789,0.15657737722072426,0.0036243913530791282,-0.01665697835042872,0.6608253517262859,1.0,0.34459628739730935,-0.21076600444307209,0.00044109547161671337,0.0004401185549558116,-0.014406824448108747,0.0026694112131842936,-0.0042829580020747335,0.007795325179764175,0.44153712738048423,0.4317081706290227],[0.07745826766820836,0.13631314420683086,0.15464423142385264,-0.0008532765310590026,-0.02385798935030226,0.2811235830634358,0.34459628739730935,1.0,0.19225902819372861,-6.597678394665833e-05,-6.84388243965729e-05,0.056382797574801094,0.008326030497612347,0.001166661594890814,0.011038649999093826,-0.04698863843024976,-0.045250145984237544],[0.04482542263247438,0.229888855811973,0.16644880297523704,-0.010085439760927396,0.04734386712917178,-0.08777653304271998,-0.21076600444307209,0.19225902819372861,1.0,-0.0023057046831720706,-0.0023066399027746446,0.004302833668230512,-0.006976191226244681,0.04241988704790782,0.004022834857532494,0.10841399825791712,0.1312454790610799],[-0.0005794616626366506,-0.004341102572107487,-0.00220624597286361,-0.00014455155952262239,0.11265249449488501,-0.0009926835790156025,0.00044109547161671337,-6.597678394665833e-05,-0.0023057046831720706,1.0,0.9999999999452343,0.000473579746125237,0.0029358251602975513,0.0013680970112180603,0.0012881541621240493,0.007295212889761761,0.007388072670444775],[-0.000579678177309438,-0.004342455906809418,-0.0022073273007140815,-0.00014455089848136167,0.11265247720240248,-0.000994637174067432,0.0004401185549558116,-6.84388243965729e-05,-0.0023066399027746446,0.9999999999452343,1.0,0.00047390415163654434,0.002935814297401924,0.001368088410258093,0.0012881229908613906,0.007295210977534888,0.007388070929788885],[0.0005525909470351873,0.0022380829313394025,0.0059106319264608555,-0.0019596335104083134,0.0035105501341202742,-0.003953360677700745,-0.014406824448108747,0.056382797574801094,0.004302833668230512,0.000473579746125237,0.00047390415163654434,1.0,0.0035041452457267937,0.08612355222905822,0.0036760336855944935,-0.006444815737018508,-0.00467251916542382],[-0.004290298291431168,-0.009281162080332294,-0.009718439613191627,-0.0016975205465821726,-0.0007270552324543619,0.003814991730231251,0.0026694112131842936,0.008326030497612347,-0.006976191226244681,0.0029358251602975513,0.002935814297401924,0.0035041452457267937,1.0,0.012216540679947954,0.08368485814333447,-0.010115041700992186,-0.01027249897971088],[0.007234811084420141,0.009835751478399025,0.020671009305405975,-0.0007423879646070007,0.004672787419150131,-0.010289666414164872,-0.0042829580020747335,0.001166661594890814,0.04241988704790782,0.0013680970112180603,0.001368088410258093,0.08612355222905822,0.012216540679947954,1.0,0.0814685360240773,0.01733225238090628,0.017324807645524864],[0.003874332499533461,-0.002610137434533744,-0.003902173202611039,0.002611546996196664,-0.0001461061684989218,0.008855717094070795,0.007795325179764175,0.011038649999093826,0.004022834857532494,0.0012881541621240493,0.0012881229908613906,0.0036760336855944935,0.08368485814333447,0.0814685360240773,1.0,-0.0013643808282725023,-0.001360458481534391],[0.06776502063641807,0.5677268366255596,0.6242223972247074,0.02210097447404471,0.030883862449858426,0.26353906133439947,0.44153712738048423,-0.04698863843024976,0.10841399825791712,0.007295212889761761,0.007295210977534888,-0.006444815737018508,-0.010115041700992186,0.01733225238090628,-0.0013643808282725023,1.0,0.9862203956462817],[0.07029009915905975,0.5918110241926873,0.6408108868754868,0.022186910418490982,0.03090345618693808,0.2628344725581651,0.4317081706290227,-0.045250145984237544,0.1312454790610799,0.007388072670444775,0.007388070929788885,-0.00467251916542382,-0.01027249897971088,0.017324807645524864,-0.001360458481534391,0.9862203956462817,1.0]],\"type\":\"heatmap\",\"xaxis\":\"x\",\"yaxis\":\"y\",\"hovertemplate\":\"x: %{x}\\u003cbr\\u003ey: %{y}\\u003cbr\\u003ecolor: %{z}\\u003cextra\\u003e\\u003c\\u002fextra\\u003e\"}],                        {\"template\":{\"data\":{\"histogram2dcontour\":[{\"type\":\"histogram2dcontour\",\"colorbar\":{\"outlinewidth\":0,\"ticks\":\"\"},\"colorscale\":[[0.0,\"#0d0887\"],[0.1111111111111111,\"#46039f\"],[0.2222222222222222,\"#7201a8\"],[0.3333333333333333,\"#9c179e\"],[0.4444444444444444,\"#bd3786\"],[0.5555555555555556,\"#d8576b\"],[0.6666666666666666,\"#ed7953\"],[0.7777777777777778,\"#fb9f3a\"],[0.8888888888888888,\"#fdca26\"],[1.0,\"#f0f921\"]]}],\"choropleth\":[{\"type\":\"choropleth\",\"colorbar\":{\"outlinewidth\":0,\"ticks\":\"\"}}],\"histogram2d\":[{\"type\":\"histogram2d\",\"colorbar\":{\"outlinewidth\":0,\"ticks\":\"\"},\"colorscale\":[[0.0,\"#0d0887\"],[0.1111111111111111,\"#46039f\"],[0.2222222222222222,\"#7201a8\"],[0.3333333333333333,\"#9c179e\"],[0.4444444444444444,\"#bd3786\"],[0.5555555555555556,\"#d8576b\"],[0.6666666666666666,\"#ed7953\"],[0.7777777777777778,\"#fb9f3a\"],[0.8888888888888888,\"#fdca26\"],[1.0,\"#f0f921\"]]}],\"heatmap\":[{\"type\":\"heatmap\",\"colorbar\":{\"outlinewidth\":0,\"ticks\":\"\"},\"colorscale\":[[0.0,\"#0d0887\"],[0.1111111111111111,\"#46039f\"],[0.2222222222222222,\"#7201a8\"],[0.3333333333333333,\"#9c179e\"],[0.4444444444444444,\"#bd3786\"],[0.5555555555555556,\"#d8576b\"],[0.6666666666666666,\"#ed7953\"],[0.7777777777777778,\"#fb9f3a\"],[0.8888888888888888,\"#fdca26\"],[1.0,\"#f0f921\"]]}],\"heatmapgl\":[{\"type\":\"heatmapgl\",\"colorbar\":{\"outlinewidth\":0,\"ticks\":\"\"},\"colorscale\":[[0.0,\"#0d0887\"],[0.1111111111111111,\"#46039f\"],[0.2222222222222222,\"#7201a8\"],[0.3333333333333333,\"#9c179e\"],[0.4444444444444444,\"#bd3786\"],[0.5555555555555556,\"#d8576b\"],[0.6666666666666666,\"#ed7953\"],[0.7777777777777778,\"#fb9f3a\"],[0.8888888888888888,\"#fdca26\"],[1.0,\"#f0f921\"]]}],\"contourcarpet\":[{\"type\":\"contourcarpet\",\"colorbar\":{\"outlinewidth\":0,\"ticks\":\"\"}}],\"contour\":[{\"type\":\"contour\",\"colorbar\":{\"outlinewidth\":0,\"ticks\":\"\"},\"colorscale\":[[0.0,\"#0d0887\"],[0.1111111111111111,\"#46039f\"],[0.2222222222222222,\"#7201a8\"],[0.3333333333333333,\"#9c179e\"],[0.4444444444444444,\"#bd3786\"],[0.5555555555555556,\"#d8576b\"],[0.6666666666666666,\"#ed7953\"],[0.7777777777777778,\"#fb9f3a\"],[0.8888888888888888,\"#fdca26\"],[1.0,\"#f0f921\"]]}],\"surface\":[{\"type\":\"surface\",\"colorbar\":{\"outlinewidth\":0,\"ticks\":\"\"},\"colorscale\":[[0.0,\"#0d0887\"],[0.1111111111111111,\"#46039f\"],[0.2222222222222222,\"#7201a8\"],[0.3333333333333333,\"#9c179e\"],[0.4444444444444444,\"#bd3786\"],[0.5555555555555556,\"#d8576b\"],[0.6666666666666666,\"#ed7953\"],[0.7777777777777778,\"#fb9f3a\"],[0.8888888888888888,\"#fdca26\"],[1.0,\"#f0f921\"]]}],\"mesh3d\":[{\"type\":\"mesh3d\",\"colorbar\":{\"outlinewidth\":0,\"ticks\":\"\"}}],\"scatter\":[{\"fillpattern\":{\"fillmode\":\"overlay\",\"size\":10,\"solidity\":0.2},\"type\":\"scatter\"}],\"parcoords\":[{\"type\":\"parcoords\",\"line\":{\"colorbar\":{\"outlinewidth\":0,\"ticks\":\"\"}}}],\"scatterpolargl\":[{\"type\":\"scatterpolargl\",\"marker\":{\"colorbar\":{\"outlinewidth\":0,\"ticks\":\"\"}}}],\"bar\":[{\"error_x\":{\"color\":\"#2a3f5f\"},\"error_y\":{\"color\":\"#2a3f5f\"},\"marker\":{\"line\":{\"color\":\"#E5ECF6\",\"width\":0.5},\"pattern\":{\"fillmode\":\"overlay\",\"size\":10,\"solidity\":0.2}},\"type\":\"bar\"}],\"scattergeo\":[{\"type\":\"scattergeo\",\"marker\":{\"colorbar\":{\"outlinewidth\":0,\"ticks\":\"\"}}}],\"scatterpolar\":[{\"type\":\"scatterpolar\",\"marker\":{\"colorbar\":{\"outlinewidth\":0,\"ticks\":\"\"}}}],\"histogram\":[{\"marker\":{\"pattern\":{\"fillmode\":\"overlay\",\"size\":10,\"solidity\":0.2}},\"type\":\"histogram\"}],\"scattergl\":[{\"type\":\"scattergl\",\"marker\":{\"colorbar\":{\"outlinewidth\":0,\"ticks\":\"\"}}}],\"scatter3d\":[{\"type\":\"scatter3d\",\"line\":{\"colorbar\":{\"outlinewidth\":0,\"ticks\":\"\"}},\"marker\":{\"colorbar\":{\"outlinewidth\":0,\"ticks\":\"\"}}}],\"scattermapbox\":[{\"type\":\"scattermapbox\",\"marker\":{\"colorbar\":{\"outlinewidth\":0,\"ticks\":\"\"}}}],\"scatterternary\":[{\"type\":\"scatterternary\",\"marker\":{\"colorbar\":{\"outlinewidth\":0,\"ticks\":\"\"}}}],\"scattercarpet\":[{\"type\":\"scattercarpet\",\"marker\":{\"colorbar\":{\"outlinewidth\":0,\"ticks\":\"\"}}}],\"carpet\":[{\"aaxis\":{\"endlinecolor\":\"#2a3f5f\",\"gridcolor\":\"white\",\"linecolor\":\"white\",\"minorgridcolor\":\"white\",\"startlinecolor\":\"#2a3f5f\"},\"baxis\":{\"endlinecolor\":\"#2a3f5f\",\"gridcolor\":\"white\",\"linecolor\":\"white\",\"minorgridcolor\":\"white\",\"startlinecolor\":\"#2a3f5f\"},\"type\":\"carpet\"}],\"table\":[{\"cells\":{\"fill\":{\"color\":\"#EBF0F8\"},\"line\":{\"color\":\"white\"}},\"header\":{\"fill\":{\"color\":\"#C8D4E3\"},\"line\":{\"color\":\"white\"}},\"type\":\"table\"}],\"barpolar\":[{\"marker\":{\"line\":{\"color\":\"#E5ECF6\",\"width\":0.5},\"pattern\":{\"fillmode\":\"overlay\",\"size\":10,\"solidity\":0.2}},\"type\":\"barpolar\"}],\"pie\":[{\"automargin\":true,\"type\":\"pie\"}]},\"layout\":{\"autotypenumbers\":\"strict\",\"colorway\":[\"#636efa\",\"#EF553B\",\"#00cc96\",\"#ab63fa\",\"#FFA15A\",\"#19d3f3\",\"#FF6692\",\"#B6E880\",\"#FF97FF\",\"#FECB52\"],\"font\":{\"color\":\"#2a3f5f\"},\"hovermode\":\"closest\",\"hoverlabel\":{\"align\":\"left\"},\"paper_bgcolor\":\"white\",\"plot_bgcolor\":\"#E5ECF6\",\"polar\":{\"bgcolor\":\"#E5ECF6\",\"angularaxis\":{\"gridcolor\":\"white\",\"linecolor\":\"white\",\"ticks\":\"\"},\"radialaxis\":{\"gridcolor\":\"white\",\"linecolor\":\"white\",\"ticks\":\"\"}},\"ternary\":{\"bgcolor\":\"#E5ECF6\",\"aaxis\":{\"gridcolor\":\"white\",\"linecolor\":\"white\",\"ticks\":\"\"},\"baxis\":{\"gridcolor\":\"white\",\"linecolor\":\"white\",\"ticks\":\"\"},\"caxis\":{\"gridcolor\":\"white\",\"linecolor\":\"white\",\"ticks\":\"\"}},\"coloraxis\":{\"colorbar\":{\"outlinewidth\":0,\"ticks\":\"\"}},\"colorscale\":{\"sequential\":[[0.0,\"#0d0887\"],[0.1111111111111111,\"#46039f\"],[0.2222222222222222,\"#7201a8\"],[0.3333333333333333,\"#9c179e\"],[0.4444444444444444,\"#bd3786\"],[0.5555555555555556,\"#d8576b\"],[0.6666666666666666,\"#ed7953\"],[0.7777777777777778,\"#fb9f3a\"],[0.8888888888888888,\"#fdca26\"],[1.0,\"#f0f921\"]],\"sequentialminus\":[[0.0,\"#0d0887\"],[0.1111111111111111,\"#46039f\"],[0.2222222222222222,\"#7201a8\"],[0.3333333333333333,\"#9c179e\"],[0.4444444444444444,\"#bd3786\"],[0.5555555555555556,\"#d8576b\"],[0.6666666666666666,\"#ed7953\"],[0.7777777777777778,\"#fb9f3a\"],[0.8888888888888888,\"#fdca26\"],[1.0,\"#f0f921\"]],\"diverging\":[[0,\"#8e0152\"],[0.1,\"#c51b7d\"],[0.2,\"#de77ae\"],[0.3,\"#f1b6da\"],[0.4,\"#fde0ef\"],[0.5,\"#f7f7f7\"],[0.6,\"#e6f5d0\"],[0.7,\"#b8e186\"],[0.8,\"#7fbc41\"],[0.9,\"#4d9221\"],[1,\"#276419\"]]},\"xaxis\":{\"gridcolor\":\"white\",\"linecolor\":\"white\",\"ticks\":\"\",\"title\":{\"standoff\":15},\"zerolinecolor\":\"white\",\"automargin\":true,\"zerolinewidth\":2},\"yaxis\":{\"gridcolor\":\"white\",\"linecolor\":\"white\",\"ticks\":\"\",\"title\":{\"standoff\":15},\"zerolinecolor\":\"white\",\"automargin\":true,\"zerolinewidth\":2},\"scene\":{\"xaxis\":{\"backgroundcolor\":\"#E5ECF6\",\"gridcolor\":\"white\",\"linecolor\":\"white\",\"showbackground\":true,\"ticks\":\"\",\"zerolinecolor\":\"white\",\"gridwidth\":2},\"yaxis\":{\"backgroundcolor\":\"#E5ECF6\",\"gridcolor\":\"white\",\"linecolor\":\"white\",\"showbackground\":true,\"ticks\":\"\",\"zerolinecolor\":\"white\",\"gridwidth\":2},\"zaxis\":{\"backgroundcolor\":\"#E5ECF6\",\"gridcolor\":\"white\",\"linecolor\":\"white\",\"showbackground\":true,\"ticks\":\"\",\"zerolinecolor\":\"white\",\"gridwidth\":2}},\"shapedefaults\":{\"line\":{\"color\":\"#2a3f5f\"}},\"annotationdefaults\":{\"arrowcolor\":\"#2a3f5f\",\"arrowhead\":0,\"arrowwidth\":1},\"geo\":{\"bgcolor\":\"white\",\"landcolor\":\"#E5ECF6\",\"subunitcolor\":\"white\",\"showland\":true,\"showlakes\":true,\"lakecolor\":\"white\"},\"title\":{\"x\":0.05},\"mapbox\":{\"style\":\"light\"}}},\"xaxis\":{\"anchor\":\"y\",\"domain\":[0.0,1.0],\"scaleanchor\":\"y\",\"constrain\":\"domain\"},\"yaxis\":{\"anchor\":\"x\",\"domain\":[0.0,1.0],\"autorange\":\"reversed\",\"constrain\":\"domain\"},\"coloraxis\":{\"colorscale\":[[0.0,\"#0d0887\"],[0.1111111111111111,\"#46039f\"],[0.2222222222222222,\"#7201a8\"],[0.3333333333333333,\"#9c179e\"],[0.4444444444444444,\"#bd3786\"],[0.5555555555555556,\"#d8576b\"],[0.6666666666666666,\"#ed7953\"],[0.7777777777777778,\"#fb9f3a\"],[0.8888888888888888,\"#fdca26\"],[1.0,\"#f0f921\"]]},\"margin\":{\"t\":60}},                        {\"responsive\": true}                    ).then(function(){\n",
       "                            \n",
       "var gd = document.getElementById('42be5c75-771f-4b05-827e-0d6022f1f689');\n",
       "var x = new MutationObserver(function (mutations, observer) {{\n",
       "        var display = window.getComputedStyle(gd).display;\n",
       "        if (!display || display === 'none') {{\n",
       "            console.log([gd, 'removed!']);\n",
       "            Plotly.purge(gd);\n",
       "            observer.disconnect();\n",
       "        }}\n",
       "}});\n",
       "\n",
       "// Listen for the removal of the full notebook cells\n",
       "var notebookContainer = gd.closest('#notebook-container');\n",
       "if (notebookContainer) {{\n",
       "    x.observe(notebookContainer, {childList: true});\n",
       "}}\n",
       "\n",
       "// Listen for the clearing of the current output cell\n",
       "var outputEl = gd.closest('.output');\n",
       "if (outputEl) {{\n",
       "    x.observe(outputEl, {childList: true});\n",
       "}}\n",
       "\n",
       "                        })                };                });            </script>        </div>"
      ]
     },
     "metadata": {},
     "output_type": "display_data"
    }
   ],
   "source": [
    "mask = (df.dtypes == 'float64') & (df.columns.str.contains('100g'))\n",
    "corr_matrix = df.loc[:, mask].corr()\n",
    "heatmap = px.imshow(corr_matrix)\n",
    "heatmap.show()"
   ]
  },
  {
   "cell_type": "code",
   "execution_count": 45,
   "id": "a5c928b7-0a22-4efc-8087-e580cc67b5ac",
   "metadata": {
    "scrolled": true
   },
   "outputs": [
    {
     "data": {
      "text/plain": [
       "221348"
      ]
     },
     "execution_count": 45,
     "metadata": {},
     "output_type": "execute_result"
    }
   ],
   "source": [
    "len(df['product_name'].unique())"
   ]
  },
  {
   "cell_type": "code",
   "execution_count": 46,
   "id": "5780622f-9852-41dc-a0e0-cf068e4b1e81",
   "metadata": {},
   "outputs": [],
   "source": [
    "missing_values = df.isnull().sum().sort_values(ascending=False)\n",
    "missing_values_pct = missing_values / 320772 * 100\n",
    "variables_50pct_null = (50 < missing_values_pct)"
   ]
  },
  {
   "cell_type": "code",
   "execution_count": 47,
   "id": "9c73e677-43f5-4491-a096-fcac237e2a25",
   "metadata": {
    "scrolled": true
   },
   "outputs": [
    {
     "data": {
      "text/html": [
       "<div>\n",
       "<style scoped>\n",
       "    .dataframe tbody tr th:only-of-type {\n",
       "        vertical-align: middle;\n",
       "    }\n",
       "\n",
       "    .dataframe tbody tr th {\n",
       "        vertical-align: top;\n",
       "    }\n",
       "\n",
       "    .dataframe thead th {\n",
       "        text-align: right;\n",
       "    }\n",
       "</style>\n",
       "<table border=\"1\" class=\"dataframe\">\n",
       "  <thead>\n",
       "    <tr style=\"text-align: right;\">\n",
       "      <th></th>\n",
       "      <th>quantity</th>\n",
       "      <th>packaging</th>\n",
       "      <th>categories</th>\n",
       "      <th>categories_fr</th>\n",
       "      <th>additives_fr</th>\n",
       "      <th>pnns_groups_1</th>\n",
       "      <th>pnns_groups_2</th>\n",
       "      <th>main_category</th>\n",
       "      <th>main_category_fr</th>\n",
       "      <th>trans-fat_100g</th>\n",
       "      <th>cholesterol_100g</th>\n",
       "      <th>vitamin-a_100g</th>\n",
       "      <th>vitamin-c_100g</th>\n",
       "      <th>calcium_100g</th>\n",
       "      <th>iron_100g</th>\n",
       "    </tr>\n",
       "  </thead>\n",
       "  <tbody>\n",
       "    <tr>\n",
       "      <th>0</th>\n",
       "      <td>1kg</td>\n",
       "      <td>NaN</td>\n",
       "      <td>NaN</td>\n",
       "      <td>NaN</td>\n",
       "      <td>NaN</td>\n",
       "      <td>NaN</td>\n",
       "      <td>NaN</td>\n",
       "      <td>NaN</td>\n",
       "      <td>NaN</td>\n",
       "      <td>NaN</td>\n",
       "      <td>NaN</td>\n",
       "      <td>NaN</td>\n",
       "      <td>NaN</td>\n",
       "      <td>NaN</td>\n",
       "      <td>NaN</td>\n",
       "    </tr>\n",
       "    <tr>\n",
       "      <th>1</th>\n",
       "      <td>NaN</td>\n",
       "      <td>NaN</td>\n",
       "      <td>NaN</td>\n",
       "      <td>NaN</td>\n",
       "      <td>NaN</td>\n",
       "      <td>NaN</td>\n",
       "      <td>NaN</td>\n",
       "      <td>NaN</td>\n",
       "      <td>NaN</td>\n",
       "      <td>0.0</td>\n",
       "      <td>0.018</td>\n",
       "      <td>0.0</td>\n",
       "      <td>0.0214</td>\n",
       "      <td>0.000</td>\n",
       "      <td>0.00129</td>\n",
       "    </tr>\n",
       "    <tr>\n",
       "      <th>2</th>\n",
       "      <td>NaN</td>\n",
       "      <td>NaN</td>\n",
       "      <td>NaN</td>\n",
       "      <td>NaN</td>\n",
       "      <td>NaN</td>\n",
       "      <td>NaN</td>\n",
       "      <td>NaN</td>\n",
       "      <td>NaN</td>\n",
       "      <td>NaN</td>\n",
       "      <td>0.0</td>\n",
       "      <td>0.000</td>\n",
       "      <td>0.0</td>\n",
       "      <td>0.0000</td>\n",
       "      <td>0.071</td>\n",
       "      <td>0.00129</td>\n",
       "    </tr>\n",
       "    <tr>\n",
       "      <th>3</th>\n",
       "      <td>NaN</td>\n",
       "      <td>NaN</td>\n",
       "      <td>NaN</td>\n",
       "      <td>NaN</td>\n",
       "      <td>NaN</td>\n",
       "      <td>NaN</td>\n",
       "      <td>NaN</td>\n",
       "      <td>NaN</td>\n",
       "      <td>NaN</td>\n",
       "      <td>NaN</td>\n",
       "      <td>NaN</td>\n",
       "      <td>NaN</td>\n",
       "      <td>NaN</td>\n",
       "      <td>0.143</td>\n",
       "      <td>0.00514</td>\n",
       "    </tr>\n",
       "    <tr>\n",
       "      <th>4</th>\n",
       "      <td>NaN</td>\n",
       "      <td>NaN</td>\n",
       "      <td>NaN</td>\n",
       "      <td>NaN</td>\n",
       "      <td>NaN</td>\n",
       "      <td>NaN</td>\n",
       "      <td>NaN</td>\n",
       "      <td>NaN</td>\n",
       "      <td>NaN</td>\n",
       "      <td>NaN</td>\n",
       "      <td>NaN</td>\n",
       "      <td>NaN</td>\n",
       "      <td>NaN</td>\n",
       "      <td>NaN</td>\n",
       "      <td>NaN</td>\n",
       "    </tr>\n",
       "    <tr>\n",
       "      <th>...</th>\n",
       "      <td>...</td>\n",
       "      <td>...</td>\n",
       "      <td>...</td>\n",
       "      <td>...</td>\n",
       "      <td>...</td>\n",
       "      <td>...</td>\n",
       "      <td>...</td>\n",
       "      <td>...</td>\n",
       "      <td>...</td>\n",
       "      <td>...</td>\n",
       "      <td>...</td>\n",
       "      <td>...</td>\n",
       "      <td>...</td>\n",
       "      <td>...</td>\n",
       "      <td>...</td>\n",
       "    </tr>\n",
       "    <tr>\n",
       "      <th>320767</th>\n",
       "      <td>1</td>\n",
       "      <td>Plastique</td>\n",
       "      <td>NaN</td>\n",
       "      <td>NaN</td>\n",
       "      <td>NaN</td>\n",
       "      <td>NaN</td>\n",
       "      <td>NaN</td>\n",
       "      <td>NaN</td>\n",
       "      <td>NaN</td>\n",
       "      <td>NaN</td>\n",
       "      <td>NaN</td>\n",
       "      <td>NaN</td>\n",
       "      <td>NaN</td>\n",
       "      <td>NaN</td>\n",
       "      <td>NaN</td>\n",
       "    </tr>\n",
       "    <tr>\n",
       "      <th>320768</th>\n",
       "      <td>NaN</td>\n",
       "      <td>Plastique</td>\n",
       "      <td>NaN</td>\n",
       "      <td>NaN</td>\n",
       "      <td>NaN</td>\n",
       "      <td>NaN</td>\n",
       "      <td>NaN</td>\n",
       "      <td>NaN</td>\n",
       "      <td>NaN</td>\n",
       "      <td>0.0</td>\n",
       "      <td>0.000</td>\n",
       "      <td>0.0</td>\n",
       "      <td>0.0000</td>\n",
       "      <td>0.000</td>\n",
       "      <td>0.00000</td>\n",
       "    </tr>\n",
       "    <tr>\n",
       "      <th>320769</th>\n",
       "      <td>50 g</td>\n",
       "      <td>Plastique</td>\n",
       "      <td>Potato chips</td>\n",
       "      <td>Snacks salés,Apéritif,Chips et frites,Chips,Ch...</td>\n",
       "      <td>NaN</td>\n",
       "      <td>Salty snacks</td>\n",
       "      <td>Appetizers</td>\n",
       "      <td>en:chips-and-fries</td>\n",
       "      <td>Chips et frites</td>\n",
       "      <td>NaN</td>\n",
       "      <td>NaN</td>\n",
       "      <td>NaN</td>\n",
       "      <td>NaN</td>\n",
       "      <td>NaN</td>\n",
       "      <td>NaN</td>\n",
       "    </tr>\n",
       "    <tr>\n",
       "      <th>320770</th>\n",
       "      <td>67g</td>\n",
       "      <td>NaN</td>\n",
       "      <td>NaN</td>\n",
       "      <td>NaN</td>\n",
       "      <td>NaN</td>\n",
       "      <td>NaN</td>\n",
       "      <td>NaN</td>\n",
       "      <td>NaN</td>\n",
       "      <td>NaN</td>\n",
       "      <td>NaN</td>\n",
       "      <td>NaN</td>\n",
       "      <td>NaN</td>\n",
       "      <td>NaN</td>\n",
       "      <td>NaN</td>\n",
       "      <td>NaN</td>\n",
       "    </tr>\n",
       "    <tr>\n",
       "      <th>320771</th>\n",
       "      <td>NaN</td>\n",
       "      <td>Plastique</td>\n",
       "      <td>NaN</td>\n",
       "      <td>NaN</td>\n",
       "      <td>E330 - Acide citrique,E951 - Aspartame,E150a -...</td>\n",
       "      <td>NaN</td>\n",
       "      <td>NaN</td>\n",
       "      <td>NaN</td>\n",
       "      <td>NaN</td>\n",
       "      <td>NaN</td>\n",
       "      <td>NaN</td>\n",
       "      <td>NaN</td>\n",
       "      <td>NaN</td>\n",
       "      <td>NaN</td>\n",
       "      <td>NaN</td>\n",
       "    </tr>\n",
       "  </tbody>\n",
       "</table>\n",
       "<p>320772 rows × 15 columns</p>\n",
       "</div>"
      ],
      "text/plain": [
       "       quantity  packaging    categories  \\\n",
       "0           1kg        NaN           NaN   \n",
       "1           NaN        NaN           NaN   \n",
       "2           NaN        NaN           NaN   \n",
       "3           NaN        NaN           NaN   \n",
       "4           NaN        NaN           NaN   \n",
       "...         ...        ...           ...   \n",
       "320767        1  Plastique           NaN   \n",
       "320768      NaN  Plastique           NaN   \n",
       "320769     50 g  Plastique  Potato chips   \n",
       "320770      67g        NaN           NaN   \n",
       "320771      NaN  Plastique           NaN   \n",
       "\n",
       "                                            categories_fr  \\\n",
       "0                                                     NaN   \n",
       "1                                                     NaN   \n",
       "2                                                     NaN   \n",
       "3                                                     NaN   \n",
       "4                                                     NaN   \n",
       "...                                                   ...   \n",
       "320767                                                NaN   \n",
       "320768                                                NaN   \n",
       "320769  Snacks salés,Apéritif,Chips et frites,Chips,Ch...   \n",
       "320770                                                NaN   \n",
       "320771                                                NaN   \n",
       "\n",
       "                                             additives_fr pnns_groups_1  \\\n",
       "0                                                     NaN           NaN   \n",
       "1                                                     NaN           NaN   \n",
       "2                                                     NaN           NaN   \n",
       "3                                                     NaN           NaN   \n",
       "4                                                     NaN           NaN   \n",
       "...                                                   ...           ...   \n",
       "320767                                                NaN           NaN   \n",
       "320768                                                NaN           NaN   \n",
       "320769                                                NaN  Salty snacks   \n",
       "320770                                                NaN           NaN   \n",
       "320771  E330 - Acide citrique,E951 - Aspartame,E150a -...           NaN   \n",
       "\n",
       "       pnns_groups_2       main_category main_category_fr  trans-fat_100g  \\\n",
       "0                NaN                 NaN              NaN             NaN   \n",
       "1                NaN                 NaN              NaN             0.0   \n",
       "2                NaN                 NaN              NaN             0.0   \n",
       "3                NaN                 NaN              NaN             NaN   \n",
       "4                NaN                 NaN              NaN             NaN   \n",
       "...              ...                 ...              ...             ...   \n",
       "320767           NaN                 NaN              NaN             NaN   \n",
       "320768           NaN                 NaN              NaN             0.0   \n",
       "320769    Appetizers  en:chips-and-fries  Chips et frites             NaN   \n",
       "320770           NaN                 NaN              NaN             NaN   \n",
       "320771           NaN                 NaN              NaN             NaN   \n",
       "\n",
       "        cholesterol_100g  vitamin-a_100g  vitamin-c_100g  calcium_100g  \\\n",
       "0                    NaN             NaN             NaN           NaN   \n",
       "1                  0.018             0.0          0.0214         0.000   \n",
       "2                  0.000             0.0          0.0000         0.071   \n",
       "3                    NaN             NaN             NaN         0.143   \n",
       "4                    NaN             NaN             NaN           NaN   \n",
       "...                  ...             ...             ...           ...   \n",
       "320767               NaN             NaN             NaN           NaN   \n",
       "320768             0.000             0.0          0.0000         0.000   \n",
       "320769               NaN             NaN             NaN           NaN   \n",
       "320770               NaN             NaN             NaN           NaN   \n",
       "320771               NaN             NaN             NaN           NaN   \n",
       "\n",
       "        iron_100g  \n",
       "0             NaN  \n",
       "1         0.00129  \n",
       "2         0.00129  \n",
       "3         0.00514  \n",
       "4             NaN  \n",
       "...           ...  \n",
       "320767        NaN  \n",
       "320768    0.00000  \n",
       "320769        NaN  \n",
       "320770        NaN  \n",
       "320771        NaN  \n",
       "\n",
       "[320772 rows x 15 columns]"
      ]
     },
     "execution_count": 47,
     "metadata": {},
     "output_type": "execute_result"
    }
   ],
   "source": [
    "df.loc[:, variables_50pct_null]"
   ]
  },
  {
   "cell_type": "markdown",
   "id": "cf1224e4-675b-4902-bf1e-66aba12e8f55",
   "metadata": {},
   "source": [
    "#### B. Outliers handling"
   ]
  },
  {
   "cell_type": "code",
   "execution_count": null,
   "id": "9963017f-a30d-49c7-9e50-6ae0bacd343d",
   "metadata": {},
   "outputs": [],
   "source": []
  },
  {
   "cell_type": "markdown",
   "id": "ef001d56-abc1-4f03-b436-7c02ad476eb0",
   "metadata": {
    "jp-MarkdownHeadingCollapsed": true
   },
   "source": [
    "## 3. Cleaning"
   ]
  },
  {
   "cell_type": "markdown",
   "id": "b813aade-6f3f-4465-9dd3-cd494ebbd09c",
   "metadata": {},
   "source": [
    "## 4. Evaluation"
   ]
  }
 ],
 "metadata": {
  "kernelspec": {
   "display_name": "Python 3 (ipykernel)",
   "language": "python",
   "name": "python3"
  },
  "language_info": {
   "codemirror_mode": {
    "name": "ipython",
    "version": 3
   },
   "file_extension": ".py",
   "mimetype": "text/x-python",
   "name": "python",
   "nbconvert_exporter": "python",
   "pygments_lexer": "ipython3",
   "version": "3.11.5"
  }
 },
 "nbformat": 4,
 "nbformat_minor": 5
}
